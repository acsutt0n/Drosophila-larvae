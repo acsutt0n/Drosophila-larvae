{
 "metadata": {
  "name": "",
  "signature": "sha256:20ed39b613af19a0edaa12a2c8353acce499b312d07843f4548341a9b4ec3bda"
 },
 "nbformat": 3,
 "nbformat_minor": 0,
 "worksheets": [
  {
   "cells": [
    {
     "cell_type": "code",
     "collapsed": false,
     "input": [
      "# Imports\n",
      "%matplotlib inline\n",
      "import numpy as np\n",
      "import matplotlib.pyplot as plt\n",
      "import pandas as pd\n",
      "import pymc as pm\n",
      "import statsmodels.api as sm\n"
     ],
     "language": "python",
     "metadata": {},
     "outputs": [],
     "prompt_number": 1
    },
    {
     "cell_type": "code",
     "collapsed": false,
     "input": [
      "# Load \n",
      "f = pd.read_csv('/home/acs/Dropbox/misc/15414007_props.csv')\n",
      "f.hist('times', bins=50)\n",
      "f.hist('intervals', bins=50)"
     ],
     "language": "python",
     "metadata": {},
     "outputs": [
      {
       "metadata": {},
       "output_type": "pyout",
       "prompt_number": 6,
       "text": [
        "array([[<matplotlib.axes.AxesSubplot object at 0x7f5bf6180b50>]], dtype=object)"
       ]
      },
      {
       "metadata": {},
       "output_type": "display_data",
       "png": "[encoded data removed]",
       "text": [
        "<matplotlib.figure.Figure at 0x7f5bf5ed99d0>"
       ]
      },
      {
       "metadata": {},
       "output_type": "display_data",
       "png": "[encoded data removed]",
       "text": [
        "<matplotlib.figure.Figure at 0x7f5bf5ed9210>"
       ]
      }
     ],
     "prompt_number": 6
    },
    {
     "cell_type": "markdown",
     "metadata": {},
     "source": [
      "## Peaks, smoothing\n",
      "\n",
      "We want to find the values (bin-centers) of the potential peaks, we'll use these to set the priors for the MCMC processes. We should make sure we don't find > 2 peaks, otherwise something wierd happened. "
     ]
    },
    {
     "cell_type": "code",
     "collapsed": false,
     "input": [
      "def savitzky_golay(y, window_size, order, deriv=0, rate=1):\n",
      "    r\"\"\"Smooth (and optionally differentiate) data with a Savitzky-Golay filter.\n",
      "    The Savitzky-Golay filter removes high frequency noise from data.\n",
      "    It has the advantage of preserving the original shape and\n",
      "    features of the signal better than other types of filtering\n",
      "    approaches, such as moving averages techniques.\n",
      "    Parameters\n",
      "    ----------\n",
      "    y : array_like, shape (N,)\n",
      "        the values of the time history of the signal.\n",
      "    window_size : int\n",
      "        the length of the window. Must be an odd integer number.\n",
      "    order : int\n",
      "        the order of the polynomial used in the filtering.\n",
      "        Must be less then `window_size` - 1.\n",
      "    deriv: int\n",
      "        the order of the derivative to compute (default = 0 means only smoothing)\n",
      "    Returns\n",
      "    -------\n",
      "    ys : ndarray, shape (N)\n",
      "        the smoothed signal (or it's n-th derivative).\n",
      "    Notes\n",
      "    -----\n",
      "    The Savitzky-Golay is a type of low-pass filter, particularly\n",
      "    suited for smoothing noisy data. The main idea behind this\n",
      "    approach is to make for each point a least-square fit with a\n",
      "    polynomial of high order over a odd-sized window centered at\n",
      "    the point.\n",
      "    Examples\n",
      "    --------\n",
      "    t = np.linspace(-4, 4, 500)\n",
      "    y = np.exp( -t**2 ) + np.random.normal(0, 0.05, t.shape)\n",
      "    ysg = savitzky_golay(y, window_size=31, order=4)\n",
      "    import matplotlib.pyplot as plt\n",
      "    plt.plot(t, y, label='Noisy signal')\n",
      "    plt.plot(t, np.exp(-t**2), 'k', lw=1.5, label='Original signal')\n",
      "    plt.plot(t, ysg, 'r', label='Filtered signal')\n",
      "    plt.legend()\n",
      "    plt.show()\n",
      "    References\n",
      "    ----------\n",
      "    .. [1] A. Savitzky, M. J. E. Golay, Smoothing and Differentiation of\n",
      "       Data by Simplified Least Squares Procedures. Analytical\n",
      "       Chemistry, 1964, 36 (8), pp 1627-1639.\n",
      "    .. [2] Numerical Recipes 3rd Edition: The Art of Scientific Computing\n",
      "       W.H. Press, S.A. Teukolsky, W.T. Vetterling, B.P. Flannery\n",
      "       Cambridge University Press ISBN-13: 9780521880688\n",
      "    \"\"\"\n",
      "    import numpy as np\n",
      "    from math import factorial\n",
      "    \n",
      "    try:\n",
      "        window_size = np.abs(np.int(window_size))\n",
      "        order = np.abs(np.int(order))\n",
      "    except ValueError, msg:\n",
      "        raise ValueError(\"window_size and order have to be of type int\")\n",
      "    if window_size % 2 != 1 or window_size < 1:\n",
      "        raise TypeError(\"window_size size must be a positive odd number\")\n",
      "    if window_size < order + 2:\n",
      "        raise TypeError(\"window_size is too small for the polynomials order\")\n",
      "    order_range = range(order+1)\n",
      "    half_window = (window_size -1) // 2\n",
      "    # precompute coefficients\n",
      "    b = np.mat([[k**i for i in order_range] for k in range(-half_window, half_window+1)])\n",
      "    m = np.linalg.pinv(b).A[deriv] * rate**deriv * factorial(deriv)\n",
      "    # pad the signal at the extremes with\n",
      "    # values taken from the signal itself\n",
      "    firstvals = y[0] - np.abs( y[1:half_window+1][::-1] - y[0] )\n",
      "    lastvals = y[-1] + np.abs(y[-half_window-1:-1][::-1] - y[-1])\n",
      "    y = np.concatenate((firstvals, y, lastvals))\n",
      "    return np.convolve( m[::-1], y, mode='valid')"
     ],
     "language": "python",
     "metadata": {},
     "outputs": [],
     "prompt_number": 7
    },
    {
     "cell_type": "code",
     "collapsed": false,
     "input": [
      "# We'd like to find how many peaks are in this distribution\n",
      "# Can assume that it will either be all-tonic, all-burst, or mixed, \n",
      "#  so Npeaks = {1,2}, but not >2\n",
      "\n",
      "# Let's find out how many peaks\n",
      "int_data = f.intervals.dropna()\n",
      "hist, bin_e = np.histogram(int_data, bins=50)\n",
      "bin_cents = (bin_e[:-1]+bin_e[1:])*.5\n",
      "\n",
      "histhat = savitzky_golay(hist, 11, 3)\n",
      "\n",
      "# Find the peaks for the dist\n",
      "def whichPeaks(trace):\n",
      "    peaks = []\n",
      "    df = np.diff(trace)\n",
      "    for t in range(len(df)-4):\n",
      "        if df[t] > 0 and df[t+1] > 0:\n",
      "            if df[t+2] < 0 and df[t+3] < 0: # Potential peak\n",
      "                if trace[t+2] > np.mean(trace):\n",
      "                    peaks.append([t+2, trace[t+2]])\n",
      "    return peaks\n",
      "\n",
      "\n",
      "pks = whichPeaks(histhat)\n",
      "print(pks)\n",
      "print(np.mean(histhat))\n",
      "plt.plot(bin_cents, histhat)\n",
      "print([bin_cents[p[0]] for p in pks])"
     ],
     "language": "python",
     "metadata": {},
     "outputs": [
      {
       "output_type": "stream",
       "stream": "stdout",
       "text": [
        "[[7, 177.17249417249411], [23, 50.181818181818187]]\n",
        "32.7008857809\n",
        "[67.327804999999984, 204.70850899999996]\n"
       ]
      },
      {
       "metadata": {},
       "output_type": "display_data",
       "png": "[encoded data removed]",
       "text": [
        "<matplotlib.figure.Figure at 0x7f5bf5d9ec50>"
       ]
      }
     ],
     "prompt_number": 8
    },
    {
     "cell_type": "markdown",
     "metadata": {},
     "source": [
      "## MCMC\n",
      "\n",
      "Those are pretty close to the actual peak locations. We'll use these peak values as the priors.\n",
      "\n",
      "The MCMC process will use a stochastic categorical function to assign each value to distribution 0 or 1; these will have means based on the peak values found above."
     ]
    },
    {
     "cell_type": "code",
     "collapsed": false,
     "input": [
      "type(hist)"
     ],
     "language": "python",
     "metadata": {},
     "outputs": [
      {
       "metadata": {},
       "output_type": "pyout",
       "prompt_number": 9,
       "text": [
        "numpy.ndarray"
       ]
      }
     ],
     "prompt_number": 9
    },
    {
     "cell_type": "code",
     "collapsed": false,
     "input": [
      "# Stochastic categorical assignment\n",
      "p = pm.Uniform('p', 0, 1)\n",
      "assignment = pm.Categorical('assignment', [p, 1-p], \n",
      "                            size=int_data.shape[0])\n",
      "print('Prior assignment with p = %.2f' %p.value)\n",
      "print(assignment.value[:10])"
     ],
     "language": "python",
     "metadata": {},
     "outputs": [
      {
       "output_type": "stream",
       "stream": "stdout",
       "text": [
        "Prior assignment with p = 0.58\n",
        "[1 0 0 1 1 1 0 0 0 0]\n"
       ]
      }
     ],
     "prompt_number": 10
    },
    {
     "cell_type": "code",
     "collapsed": false,
     "input": [
      "# Tau = the precision of the normal distribution (of the above peaks)\n",
      "# tau = 1/sigma**2\n",
      "taus = 1.0 / pm.Uniform('stds', 0, 100, size=2)**2\n",
      "# Centers are the bin_centers at the peak indices.\n",
      "# Here 'sigma' is 20, but is really tau = 1/sigma**2, so = 0.0025\n",
      "print([bin_cents[p[0]] for p in pks])\n",
      "centers = pm.Normal('centers', [bin_cents[p[0]] for p in pks], \n",
      "                    [.0025, .0025], size=2)\n",
      "\n",
      "# Deterministic functions map assignment (0,1) to a set of params,\n",
      "# either taus[0] and cents[0] or taus[1] and cents[1]\n",
      "\n",
      "@pm.deterministic\n",
      "def center_i(assignment=assignment, centers=centers):\n",
      "    return centers[assignment]\n",
      "@pm.deterministic\n",
      "def tau_i(assignment=assignment, taus=taus):\n",
      "    return taus[assignment]\n",
      "\n",
      "print('Random assignments: ', assignment.value[:10])\n",
      "print('Assigned centers: ', center_i.value[:10])\n",
      "print('Assigned precision: ', tau_i.value[:10])\n",
      "print(np.mean(assignment.value[:]))"
     ],
     "language": "python",
     "metadata": {},
     "outputs": [
      {
       "output_type": "stream",
       "stream": "stdout",
       "text": [
        "[67.327804999999984, 204.70850899999996]\n",
        "('Random assignments: ', array([1, 0, 0, 1, 1, 1, 0, 0, 0, 0]))\n",
        "('Assigned centers: ', array([ 236.65001543,   80.54184122,   80.54184122,  236.65001543,\n",
        "        236.65001543,  236.65001543,   80.54184122,   80.54184122,\n",
        "         80.54184122,   80.54184122]))\n",
        "('Assigned precision: ', array([ 0.00031815,  0.00077196,  0.00077196,  0.00031815,  0.00031815,\n",
        "        0.00031815,  0.00077196,  0.00077196,  0.00077196,  0.00077196]))\n",
        "0.420440636475\n"
       ]
      }
     ],
     "prompt_number": 11
    },
    {
     "cell_type": "code",
     "collapsed": false,
     "input": [
      "# Combine it with the observations (histogram)\n",
      "# Use half-rectified yhat (histhat), all (+)\n",
      "# hhat = [i if i > 0 else 0 for i in histhat]\n",
      "observations = pm.Normal('obs', center_i, tau_i, \n",
      "                         value=int_data, \n",
      "                         observed=True)\n",
      "\n",
      "# Create the model\n",
      "model = pm.Model([p, assignment, observations, taus, centers])"
     ],
     "language": "python",
     "metadata": {},
     "outputs": [],
     "prompt_number": 12
    },
    {
     "cell_type": "code",
     "collapsed": false,
     "input": [
      "# Sometimes mcmc = pm.MCMC(model)  throws an error, presumably\n",
      "#   because pm.MCMC tries to wrap everything [] in a container,\n",
      "#   and pm.Model does the same thing.\n",
      "\n",
      "mcmc = pm.MCMC([p, assignment, observations, taus, centers])\n",
      "mcmc.sample(50000)"
     ],
     "language": "python",
     "metadata": {},
     "outputs": [
      {
       "output_type": "stream",
       "stream": "stdout",
       "text": [
        "\r",
        " [                  1%                  ] 869 of 50000 complete in 0.5 sec"
       ]
      },
      {
       "output_type": "stream",
       "stream": "stdout",
       "text": [
        "\r",
        " [-                 3%                  ] 1754 of 50000 complete in 1.0 sec"
       ]
      },
      {
       "output_type": "stream",
       "stream": "stdout",
       "text": [
        "\r",
        " [--                5%                  ] 2648 of 50000 complete in 1.5 sec"
       ]
      },
      {
       "output_type": "stream",
       "stream": "stdout",
       "text": [
        "\r",
        " [--                7%                  ] 3541 of 50000 complete in 2.0 sec"
       ]
      },
      {
       "output_type": "stream",
       "stream": "stdout",
       "text": [
        "\r",
        " [---               8%                  ] 4432 of 50000 complete in 2.5 sec"
       ]
      },
      {
       "output_type": "stream",
       "stream": "stdout",
       "text": [
        "\r",
        " [----             10%                  ] 5314 of 50000 complete in 3.0 sec"
       ]
      },
      {
       "output_type": "stream",
       "stream": "stdout",
       "text": [
        "\r",
        " [----             12%                  ] 6210 of 50000 complete in 3.5 sec"
       ]
      },
      {
       "output_type": "stream",
       "stream": "stdout",
       "text": [
        "\r",
        " [-----            14%                  ] 7116 of 50000 complete in 4.0 sec"
       ]
      },
      {
       "output_type": "stream",
       "stream": "stdout",
       "text": [
        "\r",
        " [------           16%                  ] 8019 of 50000 complete in 4.5 sec"
       ]
      },
      {
       "output_type": "stream",
       "stream": "stdout",
       "text": [
        "\r",
        " [------           17%                  ] 8931 of 50000 complete in 5.0 sec"
       ]
      },
      {
       "output_type": "stream",
       "stream": "stdout",
       "text": [
        "\r",
        " [-------          19%                  ] 9839 of 50000 complete in 5.5 sec"
       ]
      },
      {
       "output_type": "stream",
       "stream": "stdout",
       "text": [
        "\r",
        " [--------         21%                  ] 10755 of 50000 complete in 6.0 sec"
       ]
      },
      {
       "output_type": "stream",
       "stream": "stdout",
       "text": [
        "\r",
        " [--------         23%                  ] 11666 of 50000 complete in 6.5 sec"
       ]
      },
      {
       "output_type": "stream",
       "stream": "stdout",
       "text": [
        "\r",
        " [---------        25%                  ] 12585 of 50000 complete in 7.0 sec"
       ]
      },
      {
       "output_type": "stream",
       "stream": "stdout",
       "text": [
        "\r",
        " [----------       27%                  ] 13506 of 50000 complete in 7.5 sec"
       ]
      },
      {
       "output_type": "stream",
       "stream": "stdout",
       "text": [
        "\r",
        " [----------       28%                  ] 14430 of 50000 complete in 8.0 sec"
       ]
      },
      {
       "output_type": "stream",
       "stream": "stdout",
       "text": [
        "\r",
        " [-----------      30%                  ] 15309 of 50000 complete in 8.5 sec"
       ]
      },
      {
       "output_type": "stream",
       "stream": "stdout",
       "text": [
        "\r",
        " [------------     32%                  ] 16236 of 50000 complete in 9.0 sec"
       ]
      },
      {
       "output_type": "stream",
       "stream": "stdout",
       "text": [
        "\r",
        " [-------------    34%                  ] 17156 of 50000 complete in 9.5 sec"
       ]
      },
      {
       "output_type": "stream",
       "stream": "stdout",
       "text": [
        "\r",
        " [-------------    36%                  ] 18084 of 50000 complete in 10.0 sec"
       ]
      },
      {
       "output_type": "stream",
       "stream": "stdout",
       "text": [
        "\r",
        " [--------------   37%                  ] 18981 of 50000 complete in 10.5 sec"
       ]
      },
      {
       "output_type": "stream",
       "stream": "stdout",
       "text": [
        "\r",
        " [---------------  39%                  ] 19911 of 50000 complete in 11.0 sec"
       ]
      },
      {
       "output_type": "stream",
       "stream": "stdout",
       "text": [
        "\r",
        " [---------------  41%                  ] 20841 of 50000 complete in 11.5 sec"
       ]
      },
      {
       "output_type": "stream",
       "stream": "stdout",
       "text": [
        "\r",
        " [---------------- 43%                  ] 21771 of 50000 complete in 12.0 sec"
       ]
      },
      {
       "output_type": "stream",
       "stream": "stdout",
       "text": [
        "\r",
        " [-----------------45%                  ] 22700 of 50000 complete in 12.5 sec"
       ]
      },
      {
       "output_type": "stream",
       "stream": "stdout",
       "text": [
        "\r",
        " [-----------------47%                  ] 23625 of 50000 complete in 13.0 sec"
       ]
      },
      {
       "output_type": "stream",
       "stream": "stdout",
       "text": [
        "\r",
        " [-----------------49%                  ] 24547 of 50000 complete in 13.5 sec"
       ]
      },
      {
       "output_type": "stream",
       "stream": "stdout",
       "text": [
        "\r",
        " [-----------------50%                  ] 25477 of 50000 complete in 14.0 sec"
       ]
      },
      {
       "output_type": "stream",
       "stream": "stdout",
       "text": [
        "\r",
        " [-----------------52%                  ] 26407 of 50000 complete in 14.5 sec"
       ]
      },
      {
       "output_type": "stream",
       "stream": "stdout",
       "text": [
        "\r",
        " [-----------------54%                  ] 27339 of 50000 complete in 15.0 sec"
       ]
      },
      {
       "output_type": "stream",
       "stream": "stdout",
       "text": [
        "\r",
        " [-----------------56%-                 ] 28269 of 50000 complete in 15.5 sec"
       ]
      },
      {
       "output_type": "stream",
       "stream": "stdout",
       "text": [
        "\r",
        " [-----------------58%--                ] 29202 of 50000 complete in 16.0 sec"
       ]
      },
      {
       "output_type": "stream",
       "stream": "stdout",
       "text": [
        "\r",
        " [-----------------60%--                ] 30133 of 50000 complete in 16.5 sec"
       ]
      },
      {
       "output_type": "stream",
       "stream": "stdout",
       "text": [
        "\r",
        " [-----------------62%---               ] 31064 of 50000 complete in 17.0 sec"
       ]
      },
      {
       "output_type": "stream",
       "stream": "stdout",
       "text": [
        "\r",
        " [-----------------63%----              ] 31994 of 50000 complete in 17.5 sec"
       ]
      },
      {
       "output_type": "stream",
       "stream": "stdout",
       "text": [
        "\r",
        " [-----------------65%-----             ] 32924 of 50000 complete in 18.0 sec"
       ]
      },
      {
       "output_type": "stream",
       "stream": "stdout",
       "text": [
        "\r",
        " [-----------------67%-----             ] 33854 of 50000 complete in 18.5 sec"
       ]
      },
      {
       "output_type": "stream",
       "stream": "stdout",
       "text": [
        "\r",
        " [-----------------69%------            ] 34782 of 50000 complete in 19.0 sec"
       ]
      },
      {
       "output_type": "stream",
       "stream": "stdout",
       "text": [
        "\r",
        " [-----------------71%-------           ] 35714 of 50000 complete in 19.5 sec"
       ]
      },
      {
       "output_type": "stream",
       "stream": "stdout",
       "text": [
        "\r",
        " [-----------------73%-------           ] 36642 of 50000 complete in 20.0 sec"
       ]
      },
      {
       "output_type": "stream",
       "stream": "stdout",
       "text": [
        "\r",
        " [-----------------75%--------          ] 37572 of 50000 complete in 20.5 sec"
       ]
      },
      {
       "output_type": "stream",
       "stream": "stdout",
       "text": [
        "\r",
        " [-----------------77%---------         ] 38505 of 50000 complete in 21.0 sec"
       ]
      },
      {
       "output_type": "stream",
       "stream": "stdout",
       "text": [
        "\r",
        " [-----------------78%---------         ] 39436 of 50000 complete in 21.5 sec"
       ]
      },
      {
       "output_type": "stream",
       "stream": "stdout",
       "text": [
        "\r",
        " [-----------------80%----------        ] 40370 of 50000 complete in 22.0 sec"
       ]
      },
      {
       "output_type": "stream",
       "stream": "stdout",
       "text": [
        "\r",
        " [-----------------82%-----------       ] 41301 of 50000 complete in 22.5 sec"
       ]
      },
      {
       "output_type": "stream",
       "stream": "stdout",
       "text": [
        "\r",
        " [-----------------84%------------      ] 42226 of 50000 complete in 23.0 sec"
       ]
      },
      {
       "output_type": "stream",
       "stream": "stdout",
       "text": [
        "\r",
        " [-----------------86%------------      ] 43156 of 50000 complete in 23.5 sec"
       ]
      },
      {
       "output_type": "stream",
       "stream": "stdout",
       "text": [
        "\r",
        " [-----------------88%-------------     ] 44086 of 50000 complete in 24.0 sec"
       ]
      },
      {
       "output_type": "stream",
       "stream": "stdout",
       "text": [
        "\r",
        " [-----------------90%--------------    ] 45017 of 50000 complete in 24.5 sec"
       ]
      },
      {
       "output_type": "stream",
       "stream": "stdout",
       "text": [
        "\r",
        " [-----------------91%--------------    ] 45948 of 50000 complete in 25.0 sec"
       ]
      },
      {
       "output_type": "stream",
       "stream": "stdout",
       "text": [
        "\r",
        " [-----------------93%---------------   ] 46882 of 50000 complete in 25.5 sec"
       ]
      },
      {
       "output_type": "stream",
       "stream": "stdout",
       "text": [
        "\r",
        " [-----------------95%----------------  ] 47816 of 50000 complete in 26.0 sec"
       ]
      },
      {
       "output_type": "stream",
       "stream": "stdout",
       "text": [
        "\r",
        " [-----------------97%----------------- ] 48746 of 50000 complete in 26.5 sec"
       ]
      },
      {
       "output_type": "stream",
       "stream": "stdout",
       "text": [
        "\r",
        " [-----------------99%----------------- ] 49678 of 50000 complete in 27.0 sec"
       ]
      },
      {
       "output_type": "stream",
       "stream": "stdout",
       "text": [
        "\r",
        " [-----------------100%-----------------] 50000 of 50000 complete in 27.2 sec"
       ]
      }
     ],
     "prompt_number": 13
    },
    {
     "cell_type": "code",
     "collapsed": false,
     "input": [
      "# This is the pre-model stats \n",
      "# fig = plt.figure()\n",
      "# ax1 = fig.add_subplot(2,2,1)\n",
      "#ax1.hist(taus.value[:], bins=50)\n",
      "#dir(mcmc.trace.im_self)\n",
      "#mcmc.trace.im_self.summary()\n",
      "\n",
      "# plt.plot(hhat)"
     ],
     "language": "python",
     "metadata": {},
     "outputs": [
      {
       "ename": "NameError",
       "evalue": "name 'hhat' is not defined",
       "output_type": "pyerr",
       "traceback": [
        "\u001b[1;31m---------------------------------------------------------------------------\u001b[0m\n\u001b[1;31mNameError\u001b[0m                                 Traceback (most recent call last)",
        "\u001b[1;32m<ipython-input-14-29cbfdbf4b7d>\u001b[0m in \u001b[0;36m<module>\u001b[1;34m()\u001b[0m\n\u001b[0;32m      6\u001b[0m \u001b[1;31m#mcmc.trace.im_self.summary()\u001b[0m\u001b[1;33m\u001b[0m\u001b[1;33m\u001b[0m\u001b[0m\n\u001b[0;32m      7\u001b[0m \u001b[1;33m\u001b[0m\u001b[0m\n\u001b[1;32m----> 8\u001b[1;33m \u001b[0mplt\u001b[0m\u001b[1;33m.\u001b[0m\u001b[0mplot\u001b[0m\u001b[1;33m(\u001b[0m\u001b[0mhhat\u001b[0m\u001b[1;33m)\u001b[0m\u001b[1;33m\u001b[0m\u001b[0m\n\u001b[0m",
        "\u001b[1;31mNameError\u001b[0m: name 'hhat' is not defined"
       ]
      }
     ],
     "prompt_number": 14
    },
    {
     "cell_type": "code",
     "collapsed": false,
     "input": [
      "center_trace = mcmc.trace(\"centers\")[:]\n",
      "plt.hist(center_trace[:,0], bins=50, histtype='stepfilled',\n",
      "         color='blue', alpha=0.7)\n",
      "plt.hist(center_trace[:,1], bins=50, histtype='stepfilled',\n",
      "         color='red', alpha=0.7)"
     ],
     "language": "python",
     "metadata": {},
     "outputs": [
      {
       "metadata": {},
       "output_type": "pyout",
       "prompt_number": 15,
       "text": [
        "(array([  1.00000000e+01,   0.00000000e+00,   0.00000000e+00,\n",
        "          0.00000000e+00,   0.00000000e+00,   0.00000000e+00,\n",
        "          0.00000000e+00,   0.00000000e+00,   0.00000000e+00,\n",
        "          0.00000000e+00,   0.00000000e+00,   0.00000000e+00,\n",
        "          0.00000000e+00,   0.00000000e+00,   0.00000000e+00,\n",
        "          2.04000000e+02,   7.53000000e+02,   7.08000000e+02,\n",
        "          7.35000000e+02,   4.16000000e+02,   6.06000000e+02,\n",
        "          4.61000000e+02,   3.27000000e+02,   7.33000000e+02,\n",
        "          6.47000000e+02,   6.32000000e+02,   7.74000000e+02,\n",
        "          6.80000000e+02,   5.65000000e+02,   6.06000000e+02,\n",
        "          6.47000000e+02,   6.96000000e+02,   5.71000000e+02,\n",
        "          7.25000000e+02,   7.27000000e+02,   9.76000000e+02,\n",
        "          1.24000000e+03,   1.27000000e+03,   1.34600000e+03,\n",
        "          1.16700000e+03,   1.70100000e+03,   5.99700000e+03,\n",
        "          1.29860000e+04,   8.99100000e+03,   1.95700000e+03,\n",
        "          1.40000000e+02,   5.00000000e+00,   0.00000000e+00,\n",
        "          0.00000000e+00,   1.00000000e+00]),\n",
        " array([  94.30415467,   97.15107189,   99.9979891 ,  102.84490632,\n",
        "         105.69182353,  108.53874075,  111.38565796,  114.23257518,\n",
        "         117.07949239,  119.92640961,  122.77332682,  125.62024404,\n",
        "         128.46716125,  131.31407847,  134.16099568,  137.0079129 ,\n",
        "         139.85483011,  142.70174733,  145.54866454,  148.39558176,\n",
        "         151.24249897,  154.08941619,  156.9363334 ,  159.78325062,\n",
        "         162.63016783,  165.47708505,  168.32400226,  171.17091948,\n",
        "         174.01783669,  176.86475391,  179.71167112,  182.55858834,\n",
        "         185.40550555,  188.25242277,  191.09933998,  193.9462572 ,\n",
        "         196.79317441,  199.64009163,  202.48700884,  205.33392606,\n",
        "         208.18084328,  211.02776049,  213.87467771,  216.72159492,\n",
        "         219.56851214,  222.41542935,  225.26234657,  228.10926378,\n",
        "         230.956181  ,  233.80309821,  236.65001543]),\n",
        " <a list of 1 Patch objects>)"
       ]
      },
      {
       "metadata": {},
       "output_type": "display_data",
       "png": "[encoded data removed]",
       "text": [
        "<matplotlib.figure.Figure at 0x7f5bf5d60d50>"
       ]
      }
     ],
     "prompt_number": 15
    },
    {
     "cell_type": "code",
     "collapsed": false,
     "input": [
      "# Fucking nailed it\n",
      "\n",
      "clusts = [center_trace[:,0], center_trace[:,1]]\n",
      "print([np.mean(c) for c in clusts])"
     ],
     "language": "python",
     "metadata": {},
     "outputs": [
      {
       "output_type": "stream",
       "stream": "stdout",
       "text": [
        "[77.638455539961299, 202.01044043427967]\n"
       ]
      }
     ],
     "prompt_number": 16
    },
    {
     "cell_type": "markdown",
     "metadata": {},
     "source": [
      "## Reverse assignment of bursting/spiking activity\n",
      "\n",
      "Now for each inteval and its associated spikes and times, we can assign it to either bursting or spiking (with almost perfect discriminability).\n",
      "\n",
      "Simple time-based association"
     ]
    },
    {
     "cell_type": "code",
     "collapsed": false,
     "input": [
      "# Assign a delta_tms to burst or tonic cluster\n",
      "def assignTms(clusts, tms):\n",
      "    assns = [abs(np.mean(clusts[c])-tms) for c in range(len(clusts))]\n",
      "    #for c in clusts:\n",
      "    #    cp = np.array([i for i in c])\n",
      "    #    fw = float(len([i for i in cp if i < tms]))/len(cp)\n",
      "    #    bw = float(len([i for i in cp if i > tms]))/len(cp)\n",
      "    #    assns.append(np.mean([fw,bw]))\n",
      "    # Whoever is closer to 0.5 wins\n",
      "    return assns.index(min(assns))\n"
     ],
     "language": "python",
     "metadata": {},
     "outputs": [],
     "prompt_number": 17
    },
    {
     "cell_type": "code",
     "collapsed": false,
     "input": [
      "# Iterate through spike times, assign each to burst or tonic\n",
      "print(len(f.times.dropna()), len(f.intervals.dropna()))\n",
      "# Since len(ISI) != len(times) -1, must make our own ISIs (on the fly)\n",
      "clust_tms = [[] for c in clusts]\n",
      "\n",
      "tms_clean = f.times.dropna()\n",
      "for t in range(len(tms_clean)-1):\n",
      "    t_clust = assignTms(clusts, tms_clean[t+1]-tms_clean[t])\n",
      "    clust_tms[t_clust].append(tms_clean[t])\n",
      "\n",
      "\"\"\"\n",
      "# Show the times\n",
      "for c in clust_tms:\n",
      "    plt.plot(c, [(clust_tms.index(c)+1) for i in c], \n",
      "             '|', color=['blue', 'red'][clust_tms.index(c)])\n",
      "plt.ylim([0,3])\"\"\"\n",
      "\n",
      "def sort_tms_byClust(df, clusts):\n",
      "    clust_tms = [[] for c in clusts]\n",
      "    tms_clean = df.times.dropna()\n",
      "    for t in range(len(tms_clean)-1):\n",
      "        t_clust = assignTms(clusts, tms_clean[t+1]-tms_clean[t])\n",
      "        clust_tms[t_clust].append(tms_clean[t])\n",
      "    \n",
      "    # Group spikes from same spike type together\n",
      "    type_tms = []\n",
      "    for c in range(len(clust_tms)):\n",
      "        for t in clust_tms[c]:\n",
      "            type_tms.append([t, c]) # [spike tms, clust index]\n",
      "\n",
      "    # Now group these together\n",
      "    clust_id = []\n",
      "    for i in range(df.shape[0]):\n",
      "        if df.iloc[i].times in [k[0] for k in type_tms]:\n",
      "            clust_id.append(type_tms[[k[0] for k in type_tms].index(df.iloc[i].times)][1])\n",
      "        else: # No matching spike found -- this happens w/ isolated spks\n",
      "            clust_id.append(np.nan)\n",
      "    \n",
      "    df['clust_inds'] = clust_id\n",
      "    return df\n",
      "\n",
      "new_df = sort_tms_byClust(new_df, clusts)\n",
      "f = f.dropna()\n",
      "print(new_df['clust_inds'][:10])\n",
      "# Show the times ## np.mean(f[f['clust_ind'] == 0]['maxV'])\n",
      "for c in range(max(f['clust_inds'])):\n",
      "    plt.plot(f[f['clust_ind'] == c][times], \n",
      "             [i+1 for i in f[f['clust_ind'] == c][times]], \n",
      "             '|', color=['blue', 'red'][c])\n",
      "plt.ylim([0,3])"
     ],
     "language": "python",
     "metadata": {},
     "outputs": [
      {
       "output_type": "stream",
       "stream": "stdout",
       "text": [
        "(0, 0)\n"
       ]
      },
      {
       "ename": "AttributeError",
       "evalue": "'DataFrame' object has no attribute 'times'",
       "output_type": "pyerr",
       "traceback": [
        "\u001b[1;31m---------------------------------------------------------------------------\u001b[0m\n\u001b[1;31mAttributeError\u001b[0m                            Traceback (most recent call last)",
        "\u001b[1;32m<ipython-input-71-e4023336647c>\u001b[0m in \u001b[0;36m<module>\u001b[1;34m()\u001b[0m\n\u001b[0;32m     40\u001b[0m     \u001b[1;32mreturn\u001b[0m \u001b[0mdf\u001b[0m\u001b[1;33m\u001b[0m\u001b[0m\n\u001b[0;32m     41\u001b[0m \u001b[1;33m\u001b[0m\u001b[0m\n\u001b[1;32m---> 42\u001b[1;33m \u001b[0mnew_df\u001b[0m \u001b[1;33m=\u001b[0m \u001b[0msort_tms_byClust\u001b[0m\u001b[1;33m(\u001b[0m\u001b[0mnew_df\u001b[0m\u001b[1;33m,\u001b[0m \u001b[0mclusts\u001b[0m\u001b[1;33m)\u001b[0m\u001b[1;33m\u001b[0m\u001b[0m\n\u001b[0m\u001b[0;32m     43\u001b[0m \u001b[0mf\u001b[0m \u001b[1;33m=\u001b[0m \u001b[0mf\u001b[0m\u001b[1;33m.\u001b[0m\u001b[0mdropna\u001b[0m\u001b[1;33m(\u001b[0m\u001b[1;33m)\u001b[0m\u001b[1;33m\u001b[0m\u001b[0m\n\u001b[0;32m     44\u001b[0m \u001b[1;32mprint\u001b[0m\u001b[1;33m(\u001b[0m\u001b[0mnew_df\u001b[0m\u001b[1;33m[\u001b[0m\u001b[1;34m'clust_inds'\u001b[0m\u001b[1;33m]\u001b[0m\u001b[1;33m[\u001b[0m\u001b[1;33m:\u001b[0m\u001b[1;36m10\u001b[0m\u001b[1;33m]\u001b[0m\u001b[1;33m)\u001b[0m\u001b[1;33m\u001b[0m\u001b[0m\n",
        "\u001b[1;32m<ipython-input-71-e4023336647c>\u001b[0m in \u001b[0;36msort_tms_byClust\u001b[1;34m(df, clusts)\u001b[0m\n\u001b[0;32m     18\u001b[0m \u001b[1;32mdef\u001b[0m \u001b[0msort_tms_byClust\u001b[0m\u001b[1;33m(\u001b[0m\u001b[0mdf\u001b[0m\u001b[1;33m,\u001b[0m \u001b[0mclusts\u001b[0m\u001b[1;33m)\u001b[0m\u001b[1;33m:\u001b[0m\u001b[1;33m\u001b[0m\u001b[0m\n\u001b[0;32m     19\u001b[0m     \u001b[0mclust_tms\u001b[0m \u001b[1;33m=\u001b[0m \u001b[1;33m[\u001b[0m\u001b[1;33m[\u001b[0m\u001b[1;33m]\u001b[0m \u001b[1;32mfor\u001b[0m \u001b[0mc\u001b[0m \u001b[1;32min\u001b[0m \u001b[0mclusts\u001b[0m\u001b[1;33m]\u001b[0m\u001b[1;33m\u001b[0m\u001b[0m\n\u001b[1;32m---> 20\u001b[1;33m     \u001b[0mtms_clean\u001b[0m \u001b[1;33m=\u001b[0m \u001b[0mdf\u001b[0m\u001b[1;33m.\u001b[0m\u001b[0mtimes\u001b[0m\u001b[1;33m.\u001b[0m\u001b[0mdropna\u001b[0m\u001b[1;33m(\u001b[0m\u001b[1;33m)\u001b[0m\u001b[1;33m\u001b[0m\u001b[0m\n\u001b[0m\u001b[0;32m     21\u001b[0m     \u001b[1;32mfor\u001b[0m \u001b[0mt\u001b[0m \u001b[1;32min\u001b[0m \u001b[0mrange\u001b[0m\u001b[1;33m(\u001b[0m\u001b[0mlen\u001b[0m\u001b[1;33m(\u001b[0m\u001b[0mtms_clean\u001b[0m\u001b[1;33m)\u001b[0m\u001b[1;33m-\u001b[0m\u001b[1;36m1\u001b[0m\u001b[1;33m)\u001b[0m\u001b[1;33m:\u001b[0m\u001b[1;33m\u001b[0m\u001b[0m\n\u001b[0;32m     22\u001b[0m         \u001b[0mt_clust\u001b[0m \u001b[1;33m=\u001b[0m \u001b[0massignTms\u001b[0m\u001b[1;33m(\u001b[0m\u001b[0mclusts\u001b[0m\u001b[1;33m,\u001b[0m \u001b[0mtms_clean\u001b[0m\u001b[1;33m[\u001b[0m\u001b[0mt\u001b[0m\u001b[1;33m+\u001b[0m\u001b[1;36m1\u001b[0m\u001b[1;33m]\u001b[0m\u001b[1;33m-\u001b[0m\u001b[0mtms_clean\u001b[0m\u001b[1;33m[\u001b[0m\u001b[0mt\u001b[0m\u001b[1;33m]\u001b[0m\u001b[1;33m)\u001b[0m\u001b[1;33m\u001b[0m\u001b[0m\n",
        "\u001b[1;32m/home/acs/anaconda/lib/python2.7/site-packages/pandas/core/generic.pyc\u001b[0m in \u001b[0;36m__getattr__\u001b[1;34m(self, name)\u001b[0m\n\u001b[0;32m   1841\u001b[0m                 \u001b[1;32mreturn\u001b[0m \u001b[0mself\u001b[0m\u001b[1;33m[\u001b[0m\u001b[0mname\u001b[0m\u001b[1;33m]\u001b[0m\u001b[1;33m\u001b[0m\u001b[0m\n\u001b[0;32m   1842\u001b[0m             raise AttributeError(\"'%s' object has no attribute '%s'\" %\n\u001b[1;32m-> 1843\u001b[1;33m                                  (type(self).__name__, name))\n\u001b[0m\u001b[0;32m   1844\u001b[0m \u001b[1;33m\u001b[0m\u001b[0m\n\u001b[0;32m   1845\u001b[0m     \u001b[1;32mdef\u001b[0m \u001b[0m__setattr__\u001b[0m\u001b[1;33m(\u001b[0m\u001b[0mself\u001b[0m\u001b[1;33m,\u001b[0m \u001b[0mname\u001b[0m\u001b[1;33m,\u001b[0m \u001b[0mvalue\u001b[0m\u001b[1;33m)\u001b[0m\u001b[1;33m:\u001b[0m\u001b[1;33m\u001b[0m\u001b[0m\n",
        "\u001b[1;31mAttributeError\u001b[0m: 'DataFrame' object has no attribute 'times'"
       ]
      }
     ],
     "prompt_number": 71
    },
    {
     "cell_type": "code",
     "collapsed": false,
     "input": [
      "# Add contiguous times together to calculate %-ages\n",
      "# Use 2-s as the period of silence (??) 'bouts'\n",
      "def timeInClusters(clust_tms, thresh=2000.):\n",
      "    cluster_bouts = [ [] for c in clust_tms ]\n",
      "    for c in range(len(clust_tms)): # Each new cluster\n",
      "        on = False\n",
      "        for t in range(len(clust_tms[c])-1):\n",
      "            if clust_tms[c][t+1] - clust_tms[c][t] > thresh: # 2-s threshold\n",
      "                if on: # If this is a bout, end it\n",
      "                    cluster_bouts[c].append(clust_tms[c][t])\n",
      "                    on = False\n",
      "                # Else, ignore it (too sparse for tonic)\n",
      "            else: # Close enough to be a continuation or new bout\n",
      "                if on is False: # Not an active bout, so start it\n",
      "                    cluster_bouts[c].append(clust_tms[c][t])\n",
      "                    on = True\n",
      "                # Else, ignore it (continue the bout)\n",
      "        if on: # If a bout is active at the end, end it with\n",
      "            cluster_bouts[c].append(clust_tms[c][-1])\n",
      "    \n",
      "    print(cluster_bouts)\n",
      "    # Calculate time spent in each cluster (assumes unit is ms)\n",
      "    timeIn = [sum([cluster_bouts[c][2*i+1]-cluster_bouts[c][2*i]\n",
      "                   for i in range(len(cluster_bouts[c])/2)])\n",
      "              for c in range(len(cluster_bouts))]\n",
      "    percentIn = [i/max([max(cl) for cl in clust_tms]) for i in timeIn]\n",
      "    for t in timeIn: # Dependent on dT\n",
      "        print('Time (percent) spent in cluster %i: %.3f s (%.2f)'\n",
      "              %(timeIn.index(t), t/10000., percentIn[timeIn.index(t)])) \n",
      "        \n",
      "    return timeIn, cluster_bouts\n"
     ],
     "language": "python",
     "metadata": {},
     "outputs": [],
     "prompt_number": 19
    },
    {
     "cell_type": "code",
     "collapsed": false,
     "input": [
      "tIn, cBouts = timeInClusters(clust_tms)\n",
      "\n",
      "# Show the times and durations of the bouts\n",
      "for b in range(len(cBouts[0])/2):\n",
      "    plt.plot([cBouts[0][b*2], cBouts[0][b*2+1]], [1,1], \n",
      "             lw=5, color='blue')\n",
      "for b in range(len(cBouts[1])/2):\n",
      "    plt.plot([cBouts[1][b*2], cBouts[1][b*2+1]], [2,2], \n",
      "             lw=5, color='red')\n",
      "plt.ylim([0,3])"
     ],
     "language": "python",
     "metadata": {},
     "outputs": [
      {
       "output_type": "stream",
       "stream": "stdout",
       "text": [
        "[[1131.3833, 7897.8500000000004, 215052.7769, 217071.5693, 264723.46629999997, 266720.61180000001, 297653.9179, 372733.74790000002], [1253.127, 15062.544400000001, 214233.2818, 220925.98259999999, 264988.45549999998, 299414.88650000002, 302252.71590000001, 305541.70480000001, 376057.62719999999, 509550.69689999998]]\n",
        "Time (percent) spent in cluster 0: 8.586 s (0.17)\n",
        "Time (percent) spent in cluster 1: 19.171 s (0.38)\n"
       ]
      },
      {
       "metadata": {},
       "output_type": "pyout",
       "prompt_number": 20,
       "text": [
        "(0, 3)"
       ]
      },
      {
       "metadata": {},
       "output_type": "display_data",
       "png": "[encoded data removed]",
       "text": [
        "<matplotlib.figure.Figure at 0x7f5bf6033d90>"
       ]
      }
     ],
     "prompt_number": 20
    },
    {
     "cell_type": "code",
     "collapsed": false,
     "input": [
      "# This does a decent job of determining bouts\n",
      "# Will compare it to actual trace (see figure in notebook)"
     ],
     "language": "python",
     "metadata": {},
     "outputs": [],
     "prompt_number": 21
    },
    {
     "cell_type": "markdown",
     "metadata": {},
     "source": [
      "## Burst vs tonic: features\n",
      "\n",
      "Last will be to assign every spike to either burst or tonic activity (or neither) so differences between spike types can be examined."
     ]
    },
    {
     "cell_type": "code",
     "collapsed": false,
     "input": [
      "# Group spikes from same spike type together\n",
      "type_tms = []\n",
      "for c in range(len(clust_tms)):\n",
      "    for t in clust_tms[c]:\n",
      "        type_tms.append([t, c]) # [spike tms, clust index]\n",
      "\n",
      "# Now group these together\n",
      "clust_id = []\n",
      "for i in range(f.shape[0]):\n",
      "    if f.iloc[i].times in [k[0] for k in type_tms]:\n",
      "        clust_id.append(type_tms[[k[0] for k in type_tms].index(f.iloc[i].times)][1])\n",
      "    else: # No matching spike found -- this happens w/ isolated spks\n",
      "        clust_id.append(np.nan)\n"
     ],
     "language": "python",
     "metadata": {},
     "outputs": [],
     "prompt_number": 22
    },
    {
     "cell_type": "code",
     "collapsed": false,
     "input": [
      "print(len(f), len(clust_id))\n",
      "# Now we have an index for each spike type\n",
      "# Add this to the data frame for easier reference\n",
      "f['clust_ind'] = clust_id"
     ],
     "language": "python",
     "metadata": {},
     "outputs": [
      {
       "output_type": "stream",
       "stream": "stdout",
       "text": [
        "(1904, 1904)\n"
       ]
      }
     ],
     "prompt_number": 23
    },
    {
     "cell_type": "code",
     "collapsed": false,
     "input": [
      "np.mean(f[f['clust_ind'] == 0]['maxV'])\n"
     ],
     "language": "python",
     "metadata": {},
     "outputs": [
      {
       "metadata": {},
       "output_type": "pyout",
       "prompt_number": 24,
       "text": [
        "-18.81371224299064"
       ]
      }
     ],
     "prompt_number": 24
    },
    {
     "cell_type": "code",
     "collapsed": false,
     "input": [
      "# Show some sample features\n",
      "def showVs(df, feat1, feat2):\n",
      "    colors = ['blue', 'red', 'green', 'coral']\n",
      "    for u in range(len(cBouts)):\n",
      "        plt.plot(f[f['clust_ind'] == u][feat1],\n",
      "                 f[f['clust_ind'] == u][feat2], 'o', color=colors[u],\n",
      "                 alpha=0.6, markeredgecolor='none')\n",
      "        plt.xlabel(feat1)\n",
      "        plt.ylabel(feat2)\n",
      "\n",
      "# Test it out\n",
      "showVs(f, 'postMinV', 'preMinV')\n",
      "# Actually, the Peirce criterion wouldn't help in this case\n",
      "#   since the outlier is (very) near the best fit"
     ],
     "language": "python",
     "metadata": {},
     "outputs": [
      {
       "metadata": {},
       "output_type": "display_data",
       "png": "[encoded data removed]",
       "text": [
        "<matplotlib.figure.Figure at 0x7f5c3421bfd0>"
       ]
      }
     ],
     "prompt_number": 25
    },
    {
     "cell_type": "markdown",
     "metadata": {},
     "source": [
      "Instead of guessing, let's find out which variables contribute to most between-cluster and overall variability. Overall variability is determined by eigendecomposition (or singular value decomposition).\n",
      "\n",
      "*Discriminability (sensitivity) index*\n",
      "$d' = (\\mu_A - \\mu_B) / {\\sqrt{1/2(\\sigma_A^2 + \\sigma_B^2)}}$\n",
      "\n",
      "Typically used for signal/noise but we can use it for our purposes.\n"
     ]
    },
    {
     "cell_type": "code",
     "collapsed": false,
     "input": [
      "def discrim(a, b):\n",
      "    return (np.mean(a)-np.mean(b))/ \\\n",
      "           np.sqrt(0.5*(np.var(a)**2 + np.var(b)**2))\n",
      "\n",
      "# Check discriminability between all variables\n",
      "checks = ['maxV', 'maxDerivV', 'maxDerivdV', 'minDerivV',\n",
      "          'minDerivdV', 'preMinV', 'postMinV', 'preMaxCurveV',\n",
      "          'preMaxCurveK', 'postMaxCurveV', 'postMaxCurveK',\n",
      "          'height', 'repolarizationV', 'intervals', 'frequencies']\n",
      "\n",
      "def a_and_b(f, feat):\n",
      "    return f[f['clust_ind'] == 0][feat], f[f['clust_ind'] == 1][feat]\n",
      "\n",
      "discs = []\n",
      "for ch in checks:\n",
      "    a, b = a_and_b(f, ch)\n",
      "    discs.append(discrim(a,b))\n",
      "\n",
      "# These are the most sensitive factors\n",
      "print('These are the most sensitive factors: ')\n",
      "abdiscs = [abs(i) for i in discs]\n",
      "for u in range(len(abdiscs)):\n",
      "    if abdiscs[u] > np.mean(abdiscs)+np.std(abdiscs):\n",
      "        print(checks[u])"
     ],
     "language": "python",
     "metadata": {},
     "outputs": [
      {
       "output_type": "stream",
       "stream": "stdout",
       "text": [
        "These are the most sensitive factors: \n",
        "preMinV\n",
        "postMinV\n",
        "preMaxCurveV\n"
       ]
      }
     ],
     "prompt_number": 26
    },
    {
     "cell_type": "code",
     "collapsed": false,
     "input": [
      "# Find total variance contribution of each variable\n",
      "new_df = f.copy()\n",
      "for col in new_df.columns:\n",
      "    if col not in checks:\n",
      "        new_df = new_df.drop(col, 1)\n",
      "        print('Dropped %s' %col)\n",
      "new_df = new_df.dropna()\n",
      "\n",
      "mat = np.array([new_df[ch] for ch in checks])\n",
      "mat = mat.T\n",
      "print(mat.shape)\n",
      "# print([new_df[j][:4] for j in new_df.columns])\n",
      "u,s,v = np.linalg.svd(mat, full_matrices=False)\n",
      "# print('unitary matrices', np.shape(u)) # Unitary matrices\n",
      "print('singular values', np.shape(s),) # singular values\n",
      "# print('more unitary matrices', np.shape(v)) # unitary matrices\n",
      "# SVD does not converge in some cases"
     ],
     "language": "python",
     "metadata": {},
     "outputs": [
      {
       "output_type": "stream",
       "stream": "stdout",
       "text": [
        "Dropped times\n",
        "Dropped n1List\n",
        "Dropped n2List\n",
        "Dropped maxVtms\n",
        "Dropped maxVinds\n",
        "Dropped maxDerivtms\n",
        "Dropped maxDerivinds\n",
        "Dropped minDerivtms\n",
        "Dropped minDerivinds\n",
        "Dropped preMintms\n",
        "Dropped preMininds\n",
        "Dropped postMintms\n",
        "Dropped postMininds\n",
        "Dropped preMaxCurvetms\n",
        "Dropped preMaxCurveinds\n",
        "Dropped postMaxCurvetms\n",
        "Dropped postMaxCurveinds\n",
        "Dropped freq\n",
        "Dropped Unnamed: 33\n",
        "Dropped clust_ind\n",
        "(1634, 15)"
       ]
      },
      {
       "output_type": "stream",
       "stream": "stdout",
       "text": [
        "\n",
        "('singular values', (15,))"
       ]
      },
      {
       "output_type": "stream",
       "stream": "stdout",
       "text": [
        "\n"
       ]
      }
     ],
     "prompt_number": 27
    },
    {
     "cell_type": "code",
     "collapsed": false,
     "input": [
      "# Explore variance\n",
      "print(new_df.columns)\n",
      "for g in range(len(new_df.columns)):\n",
      "    if s[g] > np.mean(s):\n",
      "        print(new_df.columns[g], s[g])"
     ],
     "language": "python",
     "metadata": {},
     "outputs": [
      {
       "output_type": "stream",
       "stream": "stdout",
       "text": [
        "Index([u'maxV', u'maxDerivV', u'maxDerivdV', u'minDerivV', u'minDerivdV', u'preMinV', u'postMinV', u'preMaxCurveV', u'preMaxCurveK', u'postMaxCurveV', u'postMaxCurveK', u'height', u'repolarizationV', u'intervals', u'frequencies'], dtype='object')\n",
        "('maxV', 9110.2209507924526)\n",
        "('maxDerivV', 1402.0965719495464)\n"
       ]
      }
     ],
     "prompt_number": 28
    },
    {
     "cell_type": "code",
     "collapsed": false,
     "input": [
      "# This suggests that maxV and maxDerivV are the most\n",
      "#   informative dimensions\n",
      "showVs(new_df, 'maxV', 'maxDerivV')\n",
      "# Should probably remove gross outliers; need some criteria"
     ],
     "language": "python",
     "metadata": {},
     "outputs": [
      {
       "metadata": {},
       "output_type": "display_data",
       "png": "[encoded data removed]",
       "text": [
        "<matplotlib.figure.Figure at 0x7f5bf5e036d0>"
       ]
      }
     ],
     "prompt_number": 29
    },
    {
     "cell_type": "markdown",
     "metadata": {},
     "source": [
      "## Removing outliers: Peirce's criterion"
     ]
    },
    {
     "cell_type": "code",
     "collapsed": false,
     "input": [
      "def peirce_dev(N, n, m): # From Wikipedia\n",
      "   \"\"\"\n",
      "   Name:     peirce_dev\n",
      "   Input:    - int, total number of observations (N)\n",
      "             - int, number of outliers to be removed (n)\n",
      "             - int, number of model unknowns (m)\n",
      "   Output:   float, squared error threshold (x2)\n",
      "   Features: Returns the squared threshold error deviation for outlier \n",
      "             identification using Peirce's criterion based on Gould's\n",
      "             methodology\n",
      "   \"\"\"\n",
      "   # Assign floats to input variables:\n",
      "   N = float(N)\n",
      "   n = float(n)\n",
      "   m = float(m)\n",
      "   #\n",
      "   # Check number of observations:\n",
      "   if N > 1:\n",
      "      # Calculate Q (Nth root of Gould's equation B):\n",
      "      Q = (n**(n/N)*(N - n)**((N - n)/N))/N\n",
      "      #\n",
      "      # Initialize R values (as floats)\n",
      "      Rnew = 1.0  \n",
      "      Rold = 0.0  # <- Necessary to prompt while loop\n",
      "      #\n",
      "      # Start iteration to converge on R:\n",
      "      while ( abs(Rnew - Rold) > (N*2.0e-16) ):\n",
      "         # Calculate Lamda \n",
      "         # (1/(N-n)th root of Gould's equation A'):\n",
      "         ldiv = Rnew**n\n",
      "         if ldiv == 0:\n",
      "            ldiv = 1.0e-6\n",
      "         Lamda = ((Q**N)/(ldiv))**(1.0/(N - n))\n",
      "         #\n",
      "         # Calculate x-squared (Gould's equation C):\n",
      "         x2 = 1.0 + (N - m - n)/n*(1.0 - Lamda**2.0)\n",
      "         #\n",
      "         # If x2 goes negative, return 0:\n",
      "         if x2 < 0:\n",
      "            x2 = 0.0\n",
      "            Rold = Rnew\n",
      "         else:\n",
      "            # Use x-squared to update R (Gould's equation D):\n",
      "            Rold = Rnew\n",
      "            Rnew = (np.exp((x2 - 1)/2.0)*\n",
      "                    scipy.special.erfc(np.sqrt(x2)/np.sqrt(2.0)))\n",
      "         #\n",
      "   else:\n",
      "      x2 = 0.0\n",
      "   return x2\n"
     ],
     "language": "python",
     "metadata": {},
     "outputs": [],
     "prompt_number": 30
    },
    {
     "cell_type": "code",
     "collapsed": false,
     "input": [
      "import scipy.special\n",
      "new_df = f.copy()\n",
      "for col in new_df.columns:\n",
      "    if col not in checks:\n",
      "        new_df = new_df.drop(col, 1)\n",
      "        print('Dropped %s' %col)\n",
      "new_df = new_df.dropna()\n",
      "thing1 = new_df['maxV']\n",
      "thing2 = new_df['maxDerivV']\n",
      "print(len(thing1), len(thing2), new_df.shape)"
     ],
     "language": "python",
     "metadata": {},
     "outputs": [
      {
       "output_type": "stream",
       "stream": "stdout",
       "text": [
        "Dropped times\n",
        "Dropped n1List\n",
        "Dropped n2List\n",
        "Dropped maxVtms\n",
        "Dropped maxVinds\n",
        "Dropped maxDerivtms\n",
        "Dropped maxDerivinds\n",
        "Dropped minDerivtms\n",
        "Dropped minDerivinds\n",
        "Dropped preMintms\n",
        "Dropped preMininds\n",
        "Dropped postMintms\n",
        "Dropped postMininds\n",
        "Dropped preMaxCurvetms\n",
        "Dropped preMaxCurveinds\n",
        "Dropped postMaxCurvetms\n",
        "Dropped postMaxCurveinds\n",
        "Dropped freq\n",
        "Dropped Unnamed: 33\n",
        "Dropped clust_ind\n",
        "(1634, 1634, (1634, 15))\n"
       ]
      }
     ],
     "prompt_number": 31
    },
    {
     "cell_type": "code",
     "collapsed": false,
     "input": [
      "# The problem is that using the Peirce criterion requires a fit\n",
      "#   and I don't want to run so many comparisons...\n",
      "\n",
      "\n",
      "# Linregress\n",
      "beta, alpha, r, p, serr = scipy.stats.linregress(thing1, thing2)\n",
      "res = [(alpha + thing1[i]*beta - thing2[i])**2 \n",
      "       for i in range(len(thing1))]\n",
      "print('Min res: %.3f, max res: %.3f, mean res: %.3f, median res:%.3f'\n",
      "      %(min(res), max(res), np.mean(res), np.median(res)))\n",
      "print('Sum res: %.3f' %sum(res))\n",
      "\n",
      "plt.plot(thing1, thing2, 'o', color='r', markeredgecolor='none', \n",
      "         alpha=0.5)\n",
      "plt.plot(thing1, [alpha+i*beta for i in thing1], 'b', lw=3)\n",
      "\n",
      "# Remove points beyond a threshold\n",
      "# I think there's an easier way to do this if res ~ (dist-mean)\n",
      "mean_res = [(np.mean(thing1)-i)**2 for i in thing1]\n",
      "med_res = [(np.median(thing1)-i)**2 for i in thing1]\n",
      "print(len(med_res))\n",
      "med_res_ix = [i for i in med_res]\n",
      "med_res.sort(reverse=True)\n",
      "print(med_res[:10])\n",
      "\n",
      "# Try removing a few points and see what that does to the mean and std\n",
      "thing_copy = [u for u in thing1]\n",
      "tracks = []\n",
      "for i in range(10):\n",
      "    print('%i th iteration. Mean: %.3f, median: %.3f, std: %.3f'\n",
      "          %(i, np.mean(thing_copy), np.median(thing_copy), \n",
      "            np.std(thing_copy)))\n",
      "    rm = thing1[med_res_ix.index(med_res[i])]\n",
      "    thing_copy.pop(thing_copy.index(rm))\n"
     ],
     "language": "python",
     "metadata": {},
     "outputs": [
      {
       "output_type": "stream",
       "stream": "stdout",
       "text": [
        "Min res: 0.008, max res: 14198.797, mean res: 16.195, median res:3.361\n",
        "Sum res: 26462.909\n",
        "1634"
       ]
      },
      {
       "output_type": "stream",
       "stream": "stdout",
       "text": [
        "\n",
        "[16979.301811622503, 15736.686371402502, 15527.116281622497, 14474.8209388225, 52.586427722500019, 50.997451562500039, 48.834240422500066, 47.912007422500039, 47.525167822500059, 46.297818062499992]\n",
        "0 th iteration. Mean: -20.486, median: -19.208, std: 6.819\n",
        "1 th iteration. Mean: -20.567, median: -19.208, std: 5.994\n",
        "2 th iteration. Mean: -20.645, median: -19.208, std: 5.107\n",
        "3 th iteration. Mean: -20.722, median: -19.208, std: 4.044\n",
        "4 th iteration. Mean: -20.797, median: -19.209, std: 2.693\n",
        "5 th iteration. Mean: -20.793, median: -19.208, std: 2.691\n",
        "6 th iteration. Mean: -20.790, median: -19.208, std: 2.688\n",
        "7 th iteration. Mean: -20.786, median: -19.208, std: 2.685\n",
        "8 th iteration. Mean: -20.783, median: -19.208, std: 2.683\n",
        "9 th iteration. Mean: -20.780, median: -19.208, std: 2.681\n"
       ]
      },
      {
       "metadata": {},
       "output_type": "display_data",
       "png": "[encoded data removed]",
       "text": [
        "<matplotlib.figure.Figure at 0x7f5bf5f2aad0>"
       ]
      }
     ],
     "prompt_number": 32
    },
    {
     "cell_type": "code",
     "collapsed": false,
     "input": [],
     "language": "python",
     "metadata": {},
     "outputs": []
    },
    {
     "cell_type": "code",
     "collapsed": false,
     "input": [],
     "language": "python",
     "metadata": {},
     "outputs": []
    },
    {
     "cell_type": "code",
     "collapsed": false,
     "input": [
      "# Once the largest delta std occurs, remove all points beyond that\n",
      "def outlier(arr, as_nan=True, thresh=0.05):\n",
      "    \"\"\"\n",
      "    Return nan instead (more robust) of nothing (loss of index parity).\n",
      "    Median is more robust than mean.\n",
      "    \"\"\"\n",
      "    med_res = [(np.median(arr)-i)**2 for i in arr] \n",
      "    med_res_ix = [u for u in med_res] # Create index\n",
      "    arr_copy = [u for u in arr] # The copy will be edited first\n",
      "    stds = []\n",
      "    med_res.sort(reverse=True) # Largest to smallest\n",
      "    # print(med_res[:10])\n",
      "    numPts = int(len(arr)*thresh)\n",
      "    print('Testing largest %i residuals' %numPts)\n",
      "    \n",
      "    # Pretend to remove 10% of points\n",
      "    for i in range(int(len(arr)*.1)):\n",
      "        stds.append(np.std(arr_copy))\n",
      "        rm_ix = med_res_ix.index(med_res[i])\n",
      "        try:\n",
      "            rm = arr[rm_ix]\n",
      "        except:\n",
      "            print('tried to remove ix %i but arr is len %i'\n",
      "                  %(rm_ix, len(arr)))\n",
      "        try:      \n",
      "            arr_copy.pop(arr_copy.index(rm))\n",
      "        except:\n",
      "            print('tried to remove %f but not in arr_copy' %rm)\n",
      "    \n",
      "    # Find the greatest d(std)\n",
      "    dstd = np.diff(stds)\n",
      "    dstd = [abs(i) for i in dstd]\n",
      "    rm_to = list(dstd).index(max(dstd))+1 # len(diff) = len(arr)-1\n",
      "    print('Mean d(std): %.3f, removing all above %.3f (%i pts)'\n",
      "          %(np.mean(dstd), dstd[rm_to-1], rm_to))\n",
      "    \n",
      "    for i in range(rm_to):\n",
      "        arr[med_res_ix.index(med_res[i])] = np.nan\n",
      "    return arr\n",
      "    \n",
      "    "
     ],
     "language": "python",
     "metadata": {},
     "outputs": [],
     "prompt_number": 52
    },
    {
     "cell_type": "code",
     "collapsed": false,
     "input": [
      "\n",
      "#print(max([(np.median(thing1)-i)**2 for i in thing1]))\n",
      "new_thing1 = outlier(thing1.dropna())\n",
      "#print(min(thing1), np.median(thing1))"
     ],
     "language": "python",
     "metadata": {},
     "outputs": [
      {
       "output_type": "stream",
       "stream": "stdout",
       "text": [
        "Testing largest 163 residuals\n",
        "Mean d(std): 0.028, removing all above 1.351 (4 pts)\n"
       ]
      }
     ],
     "prompt_number": 34
    },
    {
     "cell_type": "code",
     "collapsed": false,
     "input": [
      "plt.subplot(1,2,1)\n",
      "plt.plot(np.random.random(len(thing1)), thing1, 'o', color='blue',\n",
      "         markeredgecolor='none', alpha=0.4)\n",
      "plt.title('With outliers')\n",
      "plt.subplot(1,2,2)\n",
      "plt.plot(np.random.random(len(new_thing1)), new_thing1, 'o',\n",
      "         color='red', markeredgecolor='none', alpha=0.4)\n",
      "plt.title('Without outliers')"
     ],
     "language": "python",
     "metadata": {},
     "outputs": [
      {
       "metadata": {},
       "output_type": "pyout",
       "prompt_number": 35,
       "text": [
        "<matplotlib.text.Text at 0x7f5bf5d7b590>"
       ]
      },
      {
       "metadata": {},
       "output_type": "display_data",
       "png": "[encoded data removed]",
       "text": [
        "<matplotlib.figure.Figure at 0x7f5bf629a590>"
       ]
      }
     ],
     "prompt_number": 35
    },
    {
     "cell_type": "code",
     "collapsed": false,
     "input": [
      "showVs(new_df, 'maxV', 'maxDerivV')"
     ],
     "language": "python",
     "metadata": {},
     "outputs": [
      {
       "metadata": {},
       "output_type": "display_data",
       "png": "[encoded data removed]",
       "text": [
        "<matplotlib.figure.Figure at 0x7f5bf5f05650>"
       ]
      }
     ],
     "prompt_number": 36
    },
    {
     "cell_type": "code",
     "collapsed": false,
     "input": [
      "# Let's get rid of all the outliers in the checks list\n",
      "newer_df = new_df.copy()\n",
      "for col in checks:\n",
      "    print('Removing outliers for %s ...' %col)\n",
      "    newer_df[col] = outlier(newer_df[col])"
     ],
     "language": "python",
     "metadata": {},
     "outputs": [
      {
       "output_type": "stream",
       "stream": "stdout",
       "text": [
        "Removing outliers for maxV ...\n",
        "Testing largest 81 residuals"
       ]
      },
      {
       "output_type": "stream",
       "stream": "stdout",
       "text": [
        "\n",
        "Mean d(std): 0.028, removing all above 1.351 (4 pts)"
       ]
      },
      {
       "output_type": "stream",
       "stream": "stdout",
       "text": [
        "\n",
        "Removing outliers for maxDerivV ...\n",
        "Testing largest 81 residuals"
       ]
      },
      {
       "output_type": "stream",
       "stream": "stdout",
       "text": [
        "\n",
        "Mean d(std): 0.013, removing all above 0.981 (1 pts)\n",
        "Removing outliers for maxDerivdV ..."
       ]
      },
      {
       "output_type": "stream",
       "stream": "stdout",
       "text": [
        "\n",
        "Testing largest 81 residuals"
       ]
      },
      {
       "output_type": "stream",
       "stream": "stdout",
       "text": [
        "\n",
        "Mean d(std): 0.015, removing all above 0.952 (2 pts)\n",
        "Removing outliers for minDerivV ...\n",
        "Testing largest 81 residuals"
       ]
      },
      {
       "output_type": "stream",
       "stream": "stdout",
       "text": [
        "\n",
        "Mean d(std): 0.020, removing all above 1.126 (2 pts)"
       ]
      },
      {
       "output_type": "stream",
       "stream": "stdout",
       "text": [
        "\n",
        "Removing outliers for minDerivdV ...\n",
        "Testing largest 81 residuals"
       ]
      },
      {
       "output_type": "stream",
       "stream": "stdout",
       "text": [
        "\n",
        "Mean d(std): 0.007, removing all above 0.896 (1 pts)\n",
        "Removing outliers for preMinV ...\n",
        "Testing largest 81 residuals"
       ]
      },
      {
       "output_type": "stream",
       "stream": "stdout",
       "text": [
        "\n",
        "Mean d(std): 0.004, removing all above 0.318 (1 pts)\n",
        "Removing outliers for postMinV ..."
       ]
      },
      {
       "output_type": "stream",
       "stream": "stdout",
       "text": [
        "\n",
        "Testing largest 81 residuals"
       ]
      },
      {
       "output_type": "stream",
       "stream": "stdout",
       "text": [
        "\n",
        "Mean d(std): 0.004, removing all above 0.318 (1 pts)\n",
        "Removing outliers for preMaxCurveV ...\n",
        "Testing largest 81 residuals"
       ]
      },
      {
       "output_type": "stream",
       "stream": "stdout",
       "text": [
        "\n",
        "Mean d(std): 0.005, removing all above 0.361 (1 pts)"
       ]
      },
      {
       "output_type": "stream",
       "stream": "stdout",
       "text": [
        "\n",
        "Removing outliers for preMaxCurveK ...\n",
        "Testing largest 81 residuals"
       ]
      },
      {
       "output_type": "stream",
       "stream": "stdout",
       "text": [
        "\n",
        "Mean d(std): 0.018, removing all above 0.925 (2 pts)\n",
        "Removing outliers for postMaxCurveV ...\n",
        "Testing largest 81 residuals"
       ]
      },
      {
       "output_type": "stream",
       "stream": "stdout",
       "text": [
        "\n",
        "Mean d(std): 0.018, removing all above 1.319 (2 pts)\n",
        "Removing outliers for postMaxCurveK ...\n",
        "Testing largest 81 residuals"
       ]
      },
      {
       "output_type": "stream",
       "stream": "stdout",
       "text": [
        "\n",
        "Mean d(std): 0.012, removing all above 0.707 (1 pts)\n",
        "Removing outliers for height ...\n",
        "Testing largest 81 residuals"
       ]
      },
      {
       "output_type": "stream",
       "stream": "stdout",
       "text": [
        "\n",
        "Mean d(std): 0.031, removing all above 1.461 (3 pts)\n",
        "Removing outliers for repolarizationV ...\n",
        "Testing largest 81 residuals"
       ]
      },
      {
       "output_type": "stream",
       "stream": "stdout",
       "text": [
        "\n",
        "tried to remove -9.207200 but not in arr_copy\n",
        "tried to remove -9.048500 but not in arr_copy\n",
        "tried to remove -9.036300 but not in arr_copy\n",
        "tried to remove -9.036300 but not in arr_copy\n",
        "tried to remove -9.036300 but not in arr_copy\n",
        "tried to remove -8.996600 but not in arr_copy\n",
        "tried to remove -8.960000 but not in arr_copy\n",
        "tried to remove -6.338500 but not in arr_copy\n",
        "Mean d(std): 0.025, removing all above 1.565 (2 pts)\n",
        "Removing outliers for intervals ...\n",
        "Testing largest 81 residuals"
       ]
      },
      {
       "output_type": "stream",
       "stream": "stdout",
       "text": [
        "\n",
        "Mean d(std): 0.096, removing all above 0.329 (1 pts)\n",
        "Removing outliers for frequencies ...\n",
        "Testing largest 81 residuals"
       ]
      },
      {
       "output_type": "stream",
       "stream": "stdout",
       "text": [
        "\n",
        "Mean d(std): 0.096, removing all above 0.329 (1 pts)\n"
       ]
      }
     ],
     "prompt_number": 53
    },
    {
     "cell_type": "code",
     "collapsed": false,
     "input": [
      "# We can see that in general very few points are removed\n",
      "# Make a new df without the nans (returned from outliers)\n",
      "print(newer_df.shape)\n",
      "newest_df = newer_df.dropna()\n",
      "print(newest_df.shape)"
     ],
     "language": "python",
     "metadata": {},
     "outputs": [
      {
       "output_type": "stream",
       "stream": "stdout",
       "text": [
        "(1634, 15)\n",
        "(1629, 15)\n"
       ]
      }
     ],
     "prompt_number": 54
    },
    {
     "cell_type": "code",
     "collapsed": false,
     "input": [],
     "language": "python",
     "metadata": {},
     "outputs": [],
     "prompt_number": 54
    },
    {
     "cell_type": "code",
     "collapsed": false,
     "input": [
      "# Can also try PCA\n",
      "from sklearn.decomposition import RandomizedPCA\n",
      "pca = RandomizedPCA(n_components=mat.shape[1])\n",
      "pca.fit(mat)\n",
      "expvar = pca.explained_variance_ratio_\n",
      "for g in range(len(new_df.columns)):\n",
      "    if expvar[g] > np.median(expvar):\n",
      "        print(new_df.columns[g], expvar[g])\n",
      "\n",
      "# PCA agreed that the dimension of most variability are maxV and maxDerivV"
     ],
     "language": "python",
     "metadata": {},
     "outputs": [
      {
       "output_type": "stream",
       "stream": "stdout",
       "text": [
        "('maxV', 0.98156862392118094)\n",
        "('maxDerivV', 0.01337453063723807)\n",
        "('maxDerivdV', 0.0033491095298337136)\n",
        "('minDerivV', 0.0010872437716173498)\n",
        "('minDerivdV', 0.00049859440333851611)\n",
        "('preMinV', 6.868202925442514e-05)\n",
        "('postMinV', 2.7881099228157944e-05)\n"
       ]
      }
     ],
     "prompt_number": 48
    },
    {
     "cell_type": "code",
     "collapsed": false,
     "input": [],
     "language": "python",
     "metadata": {},
     "outputs": [],
     "prompt_number": 48
    },
    {
     "cell_type": "code",
     "collapsed": false,
     "input": [],
     "language": "python",
     "metadata": {},
     "outputs": []
    },
    {
     "cell_type": "code",
     "collapsed": false,
     "input": [],
     "language": "python",
     "metadata": {},
     "outputs": []
    },
    {
     "cell_type": "markdown",
     "metadata": {},
     "source": [
      "## Putting it all together\n",
      "\n",
      "Run a cell from start to finish using just the .csv file.\n",
      "\n",
      "*Data flow: *\n",
      "1. load csv, dropna()\n",
      "2. identify number and location of peaks (savitsky-golay)\n",
      "3. run MCMC to get intervals\n",
      "4. reverse assign rows of df to each cluster type\n",
      "5. calculate bout on/off times and percentages\n",
      "6. remove outliers and characterize clusters"
     ]
    },
    {
     "cell_type": "code",
     "collapsed": false,
     "input": [
      "# 0. imports\n",
      "%matplotlib inline\n",
      "import numpy as np\n",
      "import matplotlib.pyplot as plt\n",
      "import pandas as pd\n",
      "import pymc as pm\n",
      "import statsmodels.api as sm\n",
      "\n",
      "# 1. Load CSV and dropna()\n",
      "F = pd.read_csv('/home/acs/data/maria/15305000_props.csv')\n",
      "# Clean -- keep only the checks columns\n",
      "for col in F.columns:\n",
      "    if col not in checks:\n",
      "        F = F.drop(col, 1)\n",
      "F = F.dropna()"
     ],
     "language": "python",
     "metadata": {},
     "outputs": [],
     "prompt_number": 58
    },
    {
     "cell_type": "code",
     "collapsed": false,
     "input": [
      "# 2. Identify number of location of peaks\n",
      "plt.subplot(1,2,1)\n",
      "plt.hist(F['intervals'], bins=50, histtype='stepfilled', alpha=0.6)\n",
      "plt.title('Raw Intervals')\n",
      "int_hist, bin_es = np.histogram(F['intervals'], bins=50)\n",
      "bin_cents = (bin_es[:-1]+bin_es[1:])*.5\n",
      "int_hat = savitzky_golay(int_hist, 11, 3)\n",
      "\n",
      "pks = whichPeaks(int_hat)\n",
      "print([bin_cents[p[0]] for p in pks])\n",
      "plt.subplot(1,2,2)\n",
      "plt.plot(bin_cents, int_hat)\n",
      "plt.title('Smoothed peaks')"
     ],
     "language": "python",
     "metadata": {},
     "outputs": [
      {
       "output_type": "stream",
       "stream": "stdout",
       "text": [
        "[35.238303000000002]\n"
       ]
      },
      {
       "metadata": {},
       "output_type": "pyout",
       "prompt_number": 68,
       "text": [
        "<matplotlib.text.Text at 0x7f5bcbc8cf90>"
       ]
      },
      {
       "metadata": {},
       "output_type": "display_data",
       "png": "[encoded data removed]",
       "text": [
        "<matplotlib.figure.Figure at 0x7f5bcbd5a110>"
       ]
      }
     ],
     "prompt_number": 68
    },
    {
     "cell_type": "code",
     "collapsed": false,
     "input": [
      "bin_cents[pks[0][0]]"
     ],
     "language": "python",
     "metadata": {},
     "outputs": [
      {
       "metadata": {},
       "output_type": "pyout",
       "prompt_number": 62,
       "text": [
        "35.238303000000002"
       ]
      }
     ],
     "prompt_number": 62
    },
    {
     "cell_type": "code",
     "collapsed": false,
     "input": [
      "# 3. Run MCMC\n",
      "# Don't need a p assignment variable\n",
      "tau = 1. / pm.Uniform('stds', 0, 100)**2\n",
      "center = pm.Normal('center', bin_cents[pks[0][0]], 0.0025)\n",
      "observations = pm.Normal('obs', value=int_hist, observed=True)\n",
      "mcmc = pm.MCMC([tau, center, observations])\n",
      "mcmc.sample(50000)\n",
      "\n",
      "center_trace = mcmc.trace(\"center\")[:]\n",
      "plt.hist(center_trace, bins=50, histtype='stepfilled',\n",
      "         color='blue', alpha=0.7)\n"
     ],
     "language": "python",
     "metadata": {},
     "outputs": [
      {
       "output_type": "stream",
       "stream": "stdout",
       "text": [
        "\r",
        " [-------          20%                  ] 10484 of 50000 complete in 0.5 sec"
       ]
      },
      {
       "output_type": "stream",
       "stream": "stdout",
       "text": [
        "\r",
        " [---------------- 42%                  ] 21222 of 50000 complete in 1.0 sec"
       ]
      },
      {
       "output_type": "stream",
       "stream": "stdout",
       "text": [
        "\r",
        " [-----------------63%----              ] 31750 of 50000 complete in 1.5 sec"
       ]
      },
      {
       "output_type": "stream",
       "stream": "stdout",
       "text": [
        "\r",
        " [-----------------84%------------      ] 42285 of 50000 complete in 2.0 sec"
       ]
      },
      {
       "output_type": "stream",
       "stream": "stdout",
       "text": [
        "\r",
        " [-----------------100%-----------------] 50000 of 50000 complete in 2.4 sec"
       ]
      },
      {
       "metadata": {},
       "output_type": "pyout",
       "prompt_number": 67,
       "text": [
        "(array([  7.00000000e+00,   4.00000000e+00,   8.00000000e+00,\n",
        "          1.20000000e+01,   1.50000000e+01,   3.80000000e+01,\n",
        "          6.30000000e+01,   7.90000000e+01,   1.36000000e+02,\n",
        "          1.66000000e+02,   2.71000000e+02,   3.86000000e+02,\n",
        "          5.01000000e+02,   6.50000000e+02,   9.08000000e+02,\n",
        "          1.20300000e+03,   1.44700000e+03,   1.70200000e+03,\n",
        "          2.04500000e+03,   2.25700000e+03,   2.48800000e+03,\n",
        "          2.88400000e+03,   3.12100000e+03,   3.10000000e+03,\n",
        "          3.14900000e+03,   3.07200000e+03,   3.09500000e+03,\n",
        "          2.77600000e+03,   2.59800000e+03,   2.28100000e+03,\n",
        "          1.99600000e+03,   1.73200000e+03,   1.40600000e+03,\n",
        "          1.18800000e+03,   8.46000000e+02,   7.10000000e+02,\n",
        "          4.75000000e+02,   3.50000000e+02,   2.85000000e+02,\n",
        "          2.02000000e+02,   1.18000000e+02,   9.00000000e+01,\n",
        "          4.20000000e+01,   3.50000000e+01,   3.00000000e+01,\n",
        "          1.50000000e+01,   8.00000000e+00,   6.00000000e+00,\n",
        "          1.00000000e+00,   3.00000000e+00]),\n",
        " array([ -42.6430077 ,  -39.4623786 ,  -36.2817495 ,  -33.10112041,\n",
        "         -29.92049131,  -26.73986222,  -23.55923312,  -20.37860403,\n",
        "         -17.19797493,  -14.01734583,  -10.83671674,   -7.65608764,\n",
        "          -4.47545855,   -1.29482945,    1.88579965,    5.06642874,\n",
        "           8.24705784,   11.42768693,   14.60831603,   17.78894513,\n",
        "          20.96957422,   24.15020332,   27.33083241,   30.51146151,\n",
        "          33.6920906 ,   36.8727197 ,   40.0533488 ,   43.23397789,\n",
        "          46.41460699,   49.59523608,   52.77586518,   55.95649428,\n",
        "          59.13712337,   62.31775247,   65.49838156,   68.67901066,\n",
        "          71.85963975,   75.04026885,   78.22089795,   81.40152704,\n",
        "          84.58215614,   87.76278523,   90.94341433,   94.12404343,\n",
        "          97.30467252,  100.48530162,  103.66593071,  106.84655981,\n",
        "         110.0271889 ,  113.207818  ,  116.3884471 ]),\n",
        " <a list of 1 Patch objects>)"
       ]
      },
      {
       "metadata": {},
       "output_type": "display_data",
       "png": "[encoded data removed]",
       "text": [
        "<matplotlib.figure.Figure at 0x7f5bcbf36790>"
       ]
      }
     ],
     "prompt_number": 67
    },
    {
     "cell_type": "code",
     "collapsed": false,
     "input": [
      "# 4. Assign clusters\n",
      "# Looks like all spikes are part of this cluster\n",
      "clusts = [center_trace] # Could be several, just one here\n"
     ],
     "language": "python",
     "metadata": {},
     "outputs": []
    },
    {
     "cell_type": "code",
     "collapsed": false,
     "input": [],
     "language": "python",
     "metadata": {},
     "outputs": []
    },
    {
     "cell_type": "code",
     "collapsed": false,
     "input": [],
     "language": "python",
     "metadata": {},
     "outputs": []
    },
    {
     "cell_type": "code",
     "collapsed": false,
     "input": [
      "# Explore the clusters, as a function\n",
      "\"\"\"\n",
      "def exploreTrace(mcmc):\n",
      "    plt.figure(figsize=(11., 4.))\n",
      "    std_trace = mcmc.trace('stds')[:]\n",
      "    \n",
      "    things = [mcmc.trace('centers', chain=0), std_trace[:,0],\n",
      "              mcmc.trace('centers', chain=1), std_trace[:,1]]\n",
      "    cols = ['red', 'red', 'blue', 'blue']\n",
      "    \n",
      "    for i in range(4):\n",
      "        plt.subplot(2, 2, i+1)\n",
      "        plt.hist(thing[i], color=cols[i], bins=30,\n",
      "                 histtype='stepfilled')\n",
      "    plt.tight_layout()\n",
      "    return\n",
      "\"\"\"\n",
      "\n",
      "#plt.hist(mcmc.trace('centers', chain=0))\n",
      "\n",
      "center_trace = mcmc.trace(\"centers\")[:]\n",
      "#center1_trace = mcmc.trace(\"centers\", chain=1)[:]"
     ],
     "language": "python",
     "metadata": {},
     "outputs": [],
     "prompt_number": 20
    },
    {
     "cell_type": "code",
     "collapsed": false,
     "input": [
      "center_trace.shape\n",
      "print(np.mean(center0_trace[:,0]), np.mean(center0_trace[:,1]))\n",
      "plt.hist(center0_trace[:,0], bins=30, color='blue', \n",
      "         histtype='stepfilled')\n",
      "# print(np.mean(center1_trace[:,0]), np.mean(center1_trace[:,1]))"
     ],
     "language": "python",
     "metadata": {},
     "outputs": [
      {
       "output_type": "stream",
       "stream": "stdout",
       "text": [
        "(21.001844797260585, 49.603721968953998)\n"
       ]
      },
      {
       "metadata": {},
       "output_type": "pyout",
       "prompt_number": 22,
       "text": [
        "(array([  1.00000000e+00,   0.00000000e+00,   0.00000000e+00,\n",
        "         0.00000000e+00,   3.12000000e+02,   4.94000000e+02,\n",
        "         2.82600000e+03,   9.32300000e+03,   1.83250000e+04,\n",
        "         1.39580000e+04,   4.11500000e+03,   5.96000000e+02,\n",
        "         2.80000000e+01,   0.00000000e+00,   0.00000000e+00,\n",
        "         0.00000000e+00,   1.00000000e+00,   0.00000000e+00,\n",
        "         7.00000000e+00,   3.00000000e+00,   0.00000000e+00,\n",
        "         0.00000000e+00,   0.00000000e+00,   0.00000000e+00,\n",
        "         0.00000000e+00,   0.00000000e+00,   0.00000000e+00,\n",
        "         0.00000000e+00,   0.00000000e+00,   1.10000000e+01]),\n",
        " array([  7.47607066,   9.04344155,  10.61081245,  12.17818334,\n",
        "        13.74555424,  15.31292513,  16.88029602,  18.44766692,\n",
        "        20.01503781,  21.5824087 ,  23.1497796 ,  24.71715049,\n",
        "        26.28452139,  27.85189228,  29.41926317,  30.98663407,\n",
        "        32.55400496,  34.12137586,  35.68874675,  37.25611764,\n",
        "        38.82348854,  40.39085943,  41.95823032,  43.52560122,\n",
        "        45.09297211,  46.66034301,  48.2277139 ,  49.79508479,\n",
        "        51.36245569,  52.92982658,  54.49719747]),\n",
        " <a list of 1 Patch objects>)"
       ]
      },
      {
       "metadata": {},
       "output_type": "display_data",
       "png": "[encoded data removed]",
       "text": [
        "<matplotlib.figure.Figure at 0x7f525a792750>"
       ]
      }
     ],
     "prompt_number": 22
    },
    {
     "cell_type": "code",
     "collapsed": false,
     "input": [
      "plt.hist(center0_trace[:,1], bins=30, color='red',\n",
      "         histtype='stepfilled')"
     ],
     "language": "python",
     "metadata": {},
     "outputs": [
      {
       "metadata": {},
       "output_type": "pyout",
       "prompt_number": 23,
       "text": [
        "(array([  1.71000000e+02,   4.35000000e+02,   1.31580000e+04,\n",
        "         3.04220000e+04,   5.75400000e+03,   4.00000000e+01,\n",
        "         0.00000000e+00,   0.00000000e+00,   0.00000000e+00,\n",
        "         0.00000000e+00,   6.00000000e+00,   0.00000000e+00,\n",
        "         0.00000000e+00,   0.00000000e+00,   0.00000000e+00,\n",
        "         5.00000000e+00,   0.00000000e+00,   0.00000000e+00,\n",
        "         0.00000000e+00,   1.00000000e+00,   0.00000000e+00,\n",
        "         0.00000000e+00,   0.00000000e+00,   1.00000000e+00,\n",
        "         0.00000000e+00,   0.00000000e+00,   0.00000000e+00,\n",
        "         0.00000000e+00,   0.00000000e+00,   7.00000000e+00]),\n",
        " array([  14.10181968,   24.76491358,   35.42800748,   46.09110138,\n",
        "         56.75419528,   67.41728919,   78.08038309,   88.74347699,\n",
        "         99.40657089,  110.06966479,  120.7327587 ,  131.3958526 ,\n",
        "        142.0589465 ,  152.7220404 ,  163.3851343 ,  174.04822821,\n",
        "        184.71132211,  195.37441601,  206.03750991,  216.70060381,\n",
        "        227.36369772,  238.02679162,  248.68988552,  259.35297942,\n",
        "        270.01607333,  280.67916723,  291.34226113,  302.00535503,\n",
        "        312.66844893,  323.33154284,  333.99463674]),\n",
        " <a list of 1 Patch objects>)"
       ]
      },
      {
       "metadata": {},
       "output_type": "display_data",
       "png": "[encoded data removed]",
       "text": [
        "<matplotlib.figure.Figure at 0x7f525a93cd50>"
       ]
      }
     ],
     "prompt_number": 23
    },
    {
     "cell_type": "code",
     "collapsed": false,
     "input": [
      "list(hist).index(hist.max())"
     ],
     "language": "python",
     "metadata": {},
     "outputs": [
      {
       "metadata": {},
       "output_type": "pyout",
       "prompt_number": 28,
       "text": [
        "7"
       ]
      }
     ],
     "prompt_number": 28
    },
    {
     "cell_type": "code",
     "collapsed": false,
     "input": [
      "np.diff(hist)[:10]\n"
     ],
     "language": "python",
     "metadata": {},
     "outputs": [
      {
       "metadata": {},
       "output_type": "pyout",
       "prompt_number": 29,
       "text": [
        "array([  -2,    0,    0,    0,   13,  224,  241, -337, -124,  -11])"
       ]
      }
     ],
     "prompt_number": 29
    },
    {
     "cell_type": "code",
     "collapsed": false,
     "input": [],
     "language": "python",
     "metadata": {},
     "outputs": []
    }
   ],
   "metadata": {}
  }
 ]
}